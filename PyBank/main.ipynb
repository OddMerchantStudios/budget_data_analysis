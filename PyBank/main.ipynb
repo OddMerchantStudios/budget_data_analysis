{
 "cells": [
  {
   "cell_type": "code",
   "execution_count": 44,
   "id": "fe0a4d00-3896-487b-b061-28fd94dfe77a",
   "metadata": {},
   "outputs": [],
   "source": [
    "from pathlib import Path\n",
    "import csv"
   ]
  },
  {
   "cell_type": "code",
   "execution_count": 93,
   "id": "392cd40c",
   "metadata": {},
   "outputs": [],
   "source": [
    "# initializing variables\n",
    "\n",
    "csv_path = Path(\"./budget_data.csv\")\n",
    "output_path = Path(\"./output.txt\")\n",
    "month_count = 0\n",
    "changes = []\n",
    "date_list_output = []\n",
    "grand_total = 0\n",
    "average_change = 0\n",
    "pnl_max = 0\n",
    "pnl_min = 0\n",
    "date_max = \"\"\n",
    "date_min = \"\""
   ]
  },
  {
   "cell_type": "code",
   "execution_count": 94,
   "id": "1486bef5",
   "metadata": {},
   "outputs": [],
   "source": [
    "# populating lists from csv\n",
    "\n",
    "with open(csv_path, 'r') as file:\n",
    "\n",
    "    csv_reader = csv.reader(file, delimiter=',')\n",
    "    next(csv_reader)\n",
    "    values = [int(row[1]) for row in csv_reader]\n",
    "\n",
    "    file.seek(0)\n",
    "    next(csv_reader)\n",
    "    months = [row[0] for row in csv_reader]\n",
    "\n"
   ]
  },
  {
   "cell_type": "code",
   "execution_count": 95,
   "id": "5ee6ac81",
   "metadata": {},
   "outputs": [
    {
     "name": "stdout",
     "output_type": "stream",
     "text": [
      "85\n"
     ]
    }
   ],
   "source": [
    "# calculating month count and total profit\n",
    "\n",
    "month_count = len(months)\n",
    "\n",
    "for value in values:\n",
    "    grand_total += value\n",
    "\n",
    "# calculating changes month over month\n",
    "\n",
    "for i in range(len(values)):\n",
    "    if i > 0:\n",
    "        changes.append((values[i] - values[i - 1]))\n",
    "\n",
    "# adding every relevant month to the output list\n",
    "\n",
    "for i in range(len(months)):\n",
    "    if i > 0:\n",
    "        date_list_output.append(months[i])\n",
    "\n",
    "# calculating averages, min and max increases\n",
    "\n",
    "total_changes = 0\n",
    "\n",
    "for change in changes:\n",
    "    total_changes += change\n",
    "\n",
    "average_change = round(total_changes / len(changes), 2)\n",
    "\n",
    "pnl_max = max(changes)\n",
    "pnl_min = min(changes) \n",
    "\n",
    "# setting dates by matching indexes\n",
    "\n",
    "date_max = date_list_output[changes.index(pnl_max)]\n",
    "date_min = date_list_output[changes.index(pnl_min)]"
   ]
  },
  {
   "cell_type": "code",
   "execution_count": 96,
   "id": "028cfb2c",
   "metadata": {},
   "outputs": [
    {
     "name": "stdout",
     "output_type": "stream",
     "text": [
      "\n",
      "Financial Analysis \n",
      "----------------------------\n",
      "Total Months: 86\n",
      "Total: $38382578\n",
      "Average Change: $-2315.12\n",
      "Greatest Increase in Profits: Feb-2012 $1926159\n",
      "Greatest Decrease in Profits: Sep-2013 $-2196167\n",
      "\n"
     ]
    }
   ],
   "source": [
    "# printing results and output of a txt\n",
    " \n",
    "output =f\"\"\"\n",
    "Financial Analysis \n",
    "----------------------------\n",
    "Total Months: {month_count}\n",
    "Total: ${grand_total}\n",
    "Average Change: ${average_change}\n",
    "Greatest Increase in Profits: {date_max} ${pnl_max}\n",
    "Greatest Decrease in Profits: {date_min} ${pnl_min}\n",
    "\"\"\"\n",
    "\n",
    "print(output)\n",
    "\n",
    "with open(output_path, \"w\") as output_txt:\n",
    "    output_txt.write(output)"
   ]
  },
  {
   "cell_type": "code",
   "execution_count": null,
   "id": "528639e9",
   "metadata": {},
   "outputs": [],
   "source": []
  }
 ],
 "metadata": {
  "kernelspec": {
   "display_name": "Python 3 (ipykernel)",
   "language": "python",
   "name": "python3"
  },
  "language_info": {
   "codemirror_mode": {
    "name": "ipython",
    "version": 3
   },
   "file_extension": ".py",
   "mimetype": "text/x-python",
   "name": "python",
   "nbconvert_exporter": "python",
   "pygments_lexer": "ipython3",
   "version": "3.7.13"
  }
 },
 "nbformat": 4,
 "nbformat_minor": 5
}
