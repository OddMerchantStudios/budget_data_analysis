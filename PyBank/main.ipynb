{
 "cells": [
  {
   "cell_type": "code",
   "execution_count": 85,
   "id": "fe0a4d00-3896-487b-b061-28fd94dfe77a",
   "metadata": {},
   "outputs": [],
   "source": [
    "from pathlib import Path\n",
    "import csv"
   ]
  },
  {
   "cell_type": "code",
   "execution_count": 86,
   "id": "392cd40c",
   "metadata": {},
   "outputs": [],
   "source": [
    "# initializing variables\n",
    "\n",
    "csv_path = Path(\"./budget_data.csv\")\n",
    "output_path = Path(\"./output.txt\")\n",
    "month_count = 0\n",
    "pnl_list = []\n",
    "date_list = []\n",
    "grand_total = 0\n",
    "average_change = 0\n",
    "pnl_max = 0\n",
    "pnl_min = 0\n",
    "date_max = \"\"\n",
    "date_min = \"\"\n",
    "index = 0\n"
   ]
  },
  {
   "cell_type": "code",
   "execution_count": 87,
   "id": "1486bef5",
   "metadata": {},
   "outputs": [],
   "source": [
    "# populating variables from csv\n",
    "\n",
    "with open(csv_path, 'r') as file:\n",
    "    csvreader = csv.reader(file, delimiter=',')\n",
    "    header = next(csvreader)\n",
    "    for row in csvreader:\n",
    "        month_count += 1\n",
    "        pnl_value = int(row[1])\n",
    "        date_value = row[0]\n",
    "        pnl_list.append(pnl_value)\n",
    "        date_list.append(date_value)"
   ]
  },
  {
   "cell_type": "code",
   "execution_count": 88,
   "id": "5ee6ac81",
   "metadata": {},
   "outputs": [],
   "source": [
    "# sorting logic\n",
    "\n",
    "for pnlval in pnl_list:\n",
    "    grand_total += int(pnlval)\n",
    "\n",
    "    if pnl_min == 0:\n",
    "        pnl_min = pnlval\n",
    "        date_min = date_list[index]\n",
    "    elif pnlval < pnl_min:\n",
    "        pnl_min = pnlval\n",
    "        date_min = date_list[index]\n",
    "    elif pnlval > pnl_max:\n",
    "        pnl_max = pnlval\n",
    "        date_max = date_list[index]\n",
    "    index += 1\n",
    "\n",
    "\n",
    "average_change = round(grand_total/month_count, 2)\n"
   ]
  },
  {
   "cell_type": "code",
   "execution_count": 89,
   "id": "028cfb2c",
   "metadata": {},
   "outputs": [
    {
     "name": "stdout",
     "output_type": "stream",
     "text": [
      "\n",
      "Financial Analysis \n",
      "----------------------------\n",
      "Total Months: 86\n",
      "Total: $38382578\n",
      "Average Change: $446309.05\n",
      "Greatest Increase in Profits: Feb-2012 $1170593\n",
      "Greatest Decrease in Profits: Sep-2013 $-1196225\n",
      "\n"
     ]
    }
   ],
   "source": [
    "# printing results and output of a txt\n",
    "\n",
    "output =f\"\"\"\n",
    "Financial Analysis \n",
    "----------------------------\n",
    "Total Months: {month_count}\n",
    "Total: ${grand_total}\n",
    "Average Change: ${average_change}\n",
    "Greatest Increase in Profits: {date_max} ${pnl_max}\n",
    "Greatest Decrease in Profits: {date_min} ${pnl_min}\n",
    "\"\"\"\n",
    "\n",
    "print(output)\n",
    "\n",
    "with open(output_path, \"w\") as output_txt:\n",
    "    output_txt.write(output)"
   ]
  },
  {
   "cell_type": "code",
   "execution_count": null,
   "id": "de1f4fea",
   "metadata": {},
   "outputs": [],
   "source": []
  }
 ],
 "metadata": {
  "kernelspec": {
   "display_name": "Python 3 (ipykernel)",
   "language": "python",
   "name": "python3"
  },
  "language_info": {
   "codemirror_mode": {
    "name": "ipython",
    "version": 3
   },
   "file_extension": ".py",
   "mimetype": "text/x-python",
   "name": "python",
   "nbconvert_exporter": "python",
   "pygments_lexer": "ipython3",
   "version": "3.7.13"
  }
 },
 "nbformat": 4,
 "nbformat_minor": 5
}
