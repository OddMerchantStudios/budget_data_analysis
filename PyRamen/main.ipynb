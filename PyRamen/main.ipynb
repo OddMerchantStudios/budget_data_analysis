{
 "cells": [
  {
   "cell_type": "code",
   "execution_count": 56,
   "id": "593eae1d-526a-462f-bebc-e3588aa85440",
   "metadata": {},
   "outputs": [],
   "source": [
    "# @TODO: Import libraries\n",
    "import csv\n",
    "from pathlib import Path\n",
    "\n",
    "# @TODO: Set file paths for menu_data.csv and sales_data.csv\n",
    "menu_filepath = Path('./menu_data.csv')\n",
    "sales_filepath = Path('./sales_data.csv')\n",
    "\n",
    "# @TODO: Initialize list objects to hold our menu and sales data\n",
    "menu = []\n",
    "sales = []\n",
    "\n",
    "# @TODO: Read in the menu data into the menu list\n",
    "with open(menu_filepath, 'r') as file:\n",
    "    file_reader = csv.reader(file, delimiter=',')\n",
    "    next(file_reader)\n",
    "\n",
    "    for row in file_reader:\n",
    "        menu.append(row)\n",
    "\n",
    "# @TODO: Read in the sales data into the sales list\n",
    "with open(sales_filepath, 'r') as file:\n",
    "    file_reader = csv.reader(file, delimiter=',')\n",
    "    next(file_reader) \n",
    "\n",
    "    for row in file_reader:\n",
    "        sales.append(row)\n",
    "\n",
    "# @TODO: Initialize dict object to hold our key-value pairs of items and metrics\n",
    "report = {}\n"
   ]
  },
  {
   "cell_type": "code",
   "execution_count": 57,
   "id": "05486a18",
   "metadata": {},
   "outputs": [],
   "source": [
    "# I got confused by the instructions so I did it my way\n",
    "\n",
    "# iterate over each sales record\n",
    "for sale in sales:\n",
    "\n",
    "    # add each sale item name to the report if it's not already there, also initialize keys of the dictionary\n",
    "    if sale[4] not in report.keys():\n",
    "\n",
    "        report[sale[4]] = {'01-count': 0, '02-revenue': 0, '03-cogs': 0, '04-profit': 0}\n",
    "\n",
    "    # for each sale look for it in the menu list, calculate all the metrics and add them cumulatively to the dict\n",
    "    for menu_item in menu:\n",
    "        if sale[4] == menu_item[0]:\n",
    "\n",
    "            qty = int(sale[3])\n",
    "            price = int(menu_item[3])\n",
    "            cost = int(menu_item[4])\n",
    "            profit = price - cost\n",
    "\n",
    "            report[sale[4]]['01-count'] += qty\n",
    "            report[sale[4]]['02-revenue'] += price * qty\n",
    "            report[sale[4]]['03-cogs'] += cost * qty\n",
    "            report[sale[4]]['04-profit'] += profit * qty\n",
    "\n",
    "# writing the report dict output to the txt\n",
    "with open(\"./output.txt\", \"w\") as file:\n",
    "    file.write(str(report))\n",
    "\n",
    "# writing the report dict output to the txt (more readable)\n",
    "with open(\"./output_clean.txt\", \"w\") as file:\n",
    "\n",
    "    for key, metrics in report.items():\n",
    "        file.write(str(key) + \":\" + \"\\n\")\n",
    "        file.write(\"\\t\" + \"01-count: \" + str(metrics['01-count']) + \"\\n\")\n",
    "        file.write(\"\\t\" + \"02-revenue: \" + \"$\" + str(metrics['02-revenue']) + \"\\n\")\n",
    "        file.write(\"\\t\" + \"03-cogs: \" + \"$\" +  str(metrics['03-cogs']) + \"\\n\")\n",
    "        file.write(\"\\t\" + \"04-profit: \" + \"$\" +  str(metrics['04-profit']) + \"\\n\")"
   ]
  },
  {
   "cell_type": "code",
   "execution_count": null,
   "metadata": {},
   "outputs": [],
   "source": []
  }
 ],
 "metadata": {
  "kernelspec": {
   "display_name": "Python 3 (ipykernel)",
   "language": "python",
   "name": "python3"
  },
  "language_info": {
   "codemirror_mode": {
    "name": "ipython",
    "version": 3
   },
   "file_extension": ".py",
   "mimetype": "text/x-python",
   "name": "python",
   "nbconvert_exporter": "python",
   "pygments_lexer": "ipython3",
   "version": "3.7.13"
  }
 },
 "nbformat": 4,
 "nbformat_minor": 5
}
